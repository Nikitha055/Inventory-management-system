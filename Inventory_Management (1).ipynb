{
  "nbformat": 4,
  "nbformat_minor": 0,
  "metadata": {
    "colab": {
      "name": "Inventory_Management.ipynb",
      "provenance": []
    },
    "kernelspec": {
      "name": "python3",
      "display_name": "Python 3"
    },
    "language_info": {
      "name": "python"
    }
  },
  "cells": [
    {
      "cell_type": "markdown",
      "metadata": {
        "id": "ca1kzdVn02GJ"
      },
      "source": [
        "### **Reading the data**"
      ]
    },
    {
      "cell_type": "code",
      "metadata": {
        "id": "M3iwtMu_Y4rF"
      },
      "source": [
        "import json\n",
        "fd = open(\"products.txt\",'r')\n",
        "r = fd.read()\n",
        "fd.close()\n",
        "record=json.loads(r)"
      ],
      "execution_count": 7,
      "outputs": []
    },
    {
      "cell_type": "code",
      "metadata": {
        "colab": {
          "base_uri": "https://localhost:8080/"
        },
        "id": "HKQa_6L8ZEnT",
        "outputId": "903d1862-4657-43e7-dee9-887dd35a678c"
      },
      "source": [
        "#to check the data\n",
        "record"
      ],
      "execution_count": 8,
      "outputs": [
        {
          "output_type": "execute_result",
          "data": {
            "text/plain": [
              "{'1001': {'Name': 'Biscuit', 'Price': 50, 'Quantity': 100},\n",
              " '1002': {'Name': 'Chips', 'Price': 10, 'Quantity': 200},\n",
              " '1003': {'Name': 'Shampoo', 'Price': 125, 'Quantity': 100},\n",
              " '1004': {'Name': 'Chocolate', 'Price': 10, 'Quantity': 1000},\n",
              " '1005': {'Name': 'Pen', 'Price': 20, 'Quantity': 100},\n",
              " '1006': {'Name': 'Oil', 'Price': 75, 'Quantity': 100},\n",
              " '1007': {'Name': 'Bottles', 'Price': 170, 'Quantity': 200},\n",
              " '1008': {'Name': 'Umbrella', 'Price': 300, 'Quantity': 30},\n",
              " '1009': {'Name': 'Graph', 'Price': 1, 'Quantity': 100},\n",
              " '1010': {'Name': 'Lipstick', 'Price': 70, 'Quantity': 50},\n",
              " '1011': {'Name': 'Comb', 'Price': 25, 'Quantity': 70},\n",
              " '1012': {'Name': 'Band', 'Price': 10, 'Quantity': 100},\n",
              " '1013': {'Name': 'Pencil', 'Price': 10, 'Quantity': 200},\n",
              " '1014': {'Name': 'Cutter', 'Price': 95, 'Quantity': 20},\n",
              " '1015': {'Name': 'Plates', 'Price': 25, 'Quantity': 100},\n",
              " '1016': {'Name': 'Hair Gel', 'Price': 200, 'Quantity': 80},\n",
              " '1017': {'Name': 'Towel', 'Price': 300, 'Quantity': 25},\n",
              " '1018': {'Name': 'Chair', 'Price': 575, 'Quantity': 10},\n",
              " '1019': {'Name': 'Frame', 'Price': 170, 'Quantity': 20},\n",
              " '1020': {'Name': 'Toys', 'Price': 300, 'Quantity': 30},\n",
              " '1021': {'Name': 'Cake', 'Price': 25, 'Quantity': 25},\n",
              " '1022': {'Name': 'Ice cream', 'Price': 10, 'Quantity': 200},\n",
              " '1023': {'Name': 'Milk', 'Price': 25, 'Quantity': 60},\n",
              " '1024': {'Name': 'Butter', 'Price': 185, 'Quantity': 30},\n",
              " '1025': {'Name': 'Paneer', 'Price': 190, 'Quantity': 25},\n",
              " '1026': {'Name': 'Mask', 'Price': 15, 'Quantity': 300},\n",
              " '1027': {'Name': 'Socks', 'Price': 170, 'Quantity': 100},\n",
              " '1028': {'Name': 'Pouch', 'Price': 30, 'Quantity': 100},\n",
              " '1029': {'Name': 'Scissors', 'Price': 90, 'Quantity': 100},\n",
              " '1030': {'Name': 'Gum', 'Price': 30, 'Quantity': 100}}"
            ]
          },
          "metadata": {},
          "execution_count": 8
        }
      ]
    },
    {
      "cell_type": "markdown",
      "metadata": {
        "id": "bzOuzvM4ZKaN"
      },
      "source": [
        "### **Adding an new item to the inventory**"
      ]
    },
    {
      "cell_type": "code",
      "metadata": {
        "id": "R5qiGrBGZYUu",
        "colab": {
          "base_uri": "https://localhost:8080/"
        },
        "outputId": "399b6414-5f7a-4435-aa35-d61626fc108e"
      },
      "source": [
        "prod_id = str(input(\"Enter product id:\"))\n",
        "Name = str(input(\"Enter name:\"))\n",
        "Price = int(input(\"Enter price:\"))\n",
        "Quantity=int(input(\"Enter quantity:\"))\n",
        "\n",
        "record[prod_id] = {'Name': Name, 'Price': Price, 'Quantity': Quantity}\n",
        "\n",
        "js = json.dumps(record)\n",
        "\n",
        "fd = open(\"record.json\",'w')\n",
        "fd.write(js)\n",
        "fd.close()"
      ],
      "execution_count": 9,
      "outputs": [
        {
          "name": "stdout",
          "output_type": "stream",
          "text": [
            "Enter product id:1031\n",
            "Enter name:juice\n",
            "Enter price:50\n",
            "Enter quantity:4\n"
          ]
        }
      ]
    },
    {
      "cell_type": "code",
      "metadata": {
        "colab": {
          "base_uri": "https://localhost:8080/"
        },
        "id": "CHb5gXp-3Lr4",
        "outputId": "53261d19-47a9-494f-ef9d-c853af13f409"
      },
      "source": [
        "#to check\n",
        "record"
      ],
      "execution_count": 13,
      "outputs": [
        {
          "output_type": "execute_result",
          "data": {
            "text/plain": [
              "{'1001': {'Name': 'Biscuit', 'Price': 50, 'Quantity': 100},\n",
              " '1002': {'Name': 'Chips', 'Price': 10, 'Quantity': 200},\n",
              " '1003': {'Name': 'Shampoo', 'Price': 125, 'Quantity': 100},\n",
              " '1004': {'Name': 'Chocolate', 'Price': 10, 'Quantity': 1000},\n",
              " '1005': {'Name': 'Pen', 'Price': 20, 'Quantity': 100},\n",
              " '1006': {'Name': 'oil', 'Price': 75, 'Quantity': 200},\n",
              " '1007': {'Name': 'Bottles', 'Price': 170, 'Quantity': 200},\n",
              " '1008': {'Name': 'Umbrella', 'Price': 300, 'Quantity': 30},\n",
              " '1009': {'Name': 'Graph', 'Price': 1, 'Quantity': 100},\n",
              " '1010': {'Name': 'Lipstick', 'Price': 70, 'Quantity': 50},\n",
              " '1011': {'Name': 'Comb', 'Price': 25, 'Quantity': 70},\n",
              " '1012': {'Name': 'Band', 'Price': 10, 'Quantity': 100},\n",
              " '1013': {'Name': 'Pencil', 'Price': 10, 'Quantity': 200},\n",
              " '1014': {'Name': 'Cutter', 'Price': 95, 'Quantity': 20},\n",
              " '1015': {'Name': 'Plates', 'Price': 25, 'Quantity': 100},\n",
              " '1016': {'Name': 'Hair Gel', 'Price': 200, 'Quantity': 80},\n",
              " '1017': {'Name': 'Towel', 'Price': 300, 'Quantity': 25},\n",
              " '1018': {'Name': 'Chair', 'Price': 575, 'Quantity': 10},\n",
              " '1019': {'Name': 'Frame', 'Price': 170, 'Quantity': 20},\n",
              " '1020': {'Name': 'Toys', 'Price': 300, 'Quantity': 30},\n",
              " '1021': {'Name': 'Cake', 'Price': 25, 'Quantity': 25},\n",
              " '1022': {'Name': 'Ice cream', 'Price': 10, 'Quantity': 200},\n",
              " '1023': {'Name': 'Milk', 'Price': 25, 'Quantity': 60},\n",
              " '1024': {'Name': 'Butter', 'Price': 185, 'Quantity': 30},\n",
              " '1025': {'Name': 'Paneer', 'Price': 190, 'Quantity': 25},\n",
              " '1026': {'Name': 'Mask', 'Price': 15, 'Quantity': 300},\n",
              " '1027': {'Name': 'Socks', 'Price': 170, 'Quantity': 100},\n",
              " '1028': {'Name': 'Pouch', 'Price': 30, 'Quantity': 100},\n",
              " '1029': {'Name': 'Scissors', 'Price': 90, 'Quantity': 100},\n",
              " '1030': {'Name': 'Gum', 'Price': 30, 'Quantity': 100},\n",
              " '1031': {'Name': 'juice', 'Price': 50, 'Quantity': 4}}"
            ]
          },
          "metadata": {},
          "execution_count": 13
        }
      ]
    },
    {
      "cell_type": "markdown",
      "metadata": {
        "id": "kTG-HFhUZfq6"
      },
      "source": [
        "## **Adding an existing item to the inventory**"
      ]
    },
    {
      "cell_type": "code",
      "metadata": {
        "colab": {
          "base_uri": "https://localhost:8080/"
        },
        "id": "DSMSk0FZZpDh",
        "outputId": "e9bba60f-57c2-473b-af79-d26bbf13cf86"
      },
      "source": [
        "#restocking the inventory\n",
        "#to restock the items that already exists\n",
        "prod_id = str(input(\"Enter product id:\"))\n",
        "Name = str(input(\"Enter name:\"))\n",
        "Price = int(input(\"Enter price:\"))\n",
        "prod_quan= int(input(\"Enter quantity:\"))\n",
        "if prod_id in record.keys():\n",
        "  Quantity=record[prod_id]['Quantity']=record[prod_id]['Quantity']+prod_quan\n",
        "  record[prod_id] = {'Name': Name, 'Price': Price, 'Quantity':Quantity}\n"
      ],
      "execution_count": 11,
      "outputs": [
        {
          "name": "stdout",
          "output_type": "stream",
          "text": [
            "Enter product id:1006\n",
            "Enter name:oil\n",
            "Enter price:75\n",
            "Enter quantity:100\n"
          ]
        }
      ]
    },
    {
      "cell_type": "code",
      "metadata": {
        "colab": {
          "base_uri": "https://localhost:8080/"
        },
        "id": "PMlha9-vZr-U",
        "outputId": "95a3f834-5aa3-4589-80c0-375ea03d5abd"
      },
      "source": [
        "#to check\n",
        "record"
      ],
      "execution_count": 14,
      "outputs": [
        {
          "output_type": "execute_result",
          "data": {
            "text/plain": [
              "{'1001': {'Name': 'Biscuit', 'Price': 50, 'Quantity': 100},\n",
              " '1002': {'Name': 'Chips', 'Price': 10, 'Quantity': 200},\n",
              " '1003': {'Name': 'Shampoo', 'Price': 125, 'Quantity': 100},\n",
              " '1004': {'Name': 'Chocolate', 'Price': 10, 'Quantity': 1000},\n",
              " '1005': {'Name': 'Pen', 'Price': 20, 'Quantity': 100},\n",
              " '1006': {'Name': 'oil', 'Price': 75, 'Quantity': 200},\n",
              " '1007': {'Name': 'Bottles', 'Price': 170, 'Quantity': 200},\n",
              " '1008': {'Name': 'Umbrella', 'Price': 300, 'Quantity': 30},\n",
              " '1009': {'Name': 'Graph', 'Price': 1, 'Quantity': 100},\n",
              " '1010': {'Name': 'Lipstick', 'Price': 70, 'Quantity': 50},\n",
              " '1011': {'Name': 'Comb', 'Price': 25, 'Quantity': 70},\n",
              " '1012': {'Name': 'Band', 'Price': 10, 'Quantity': 100},\n",
              " '1013': {'Name': 'Pencil', 'Price': 10, 'Quantity': 200},\n",
              " '1014': {'Name': 'Cutter', 'Price': 95, 'Quantity': 20},\n",
              " '1015': {'Name': 'Plates', 'Price': 25, 'Quantity': 100},\n",
              " '1016': {'Name': 'Hair Gel', 'Price': 200, 'Quantity': 80},\n",
              " '1017': {'Name': 'Towel', 'Price': 300, 'Quantity': 25},\n",
              " '1018': {'Name': 'Chair', 'Price': 575, 'Quantity': 10},\n",
              " '1019': {'Name': 'Frame', 'Price': 170, 'Quantity': 20},\n",
              " '1020': {'Name': 'Toys', 'Price': 300, 'Quantity': 30},\n",
              " '1021': {'Name': 'Cake', 'Price': 25, 'Quantity': 25},\n",
              " '1022': {'Name': 'Ice cream', 'Price': 10, 'Quantity': 200},\n",
              " '1023': {'Name': 'Milk', 'Price': 25, 'Quantity': 60},\n",
              " '1024': {'Name': 'Butter', 'Price': 185, 'Quantity': 30},\n",
              " '1025': {'Name': 'Paneer', 'Price': 190, 'Quantity': 25},\n",
              " '1026': {'Name': 'Mask', 'Price': 15, 'Quantity': 300},\n",
              " '1027': {'Name': 'Socks', 'Price': 170, 'Quantity': 100},\n",
              " '1028': {'Name': 'Pouch', 'Price': 30, 'Quantity': 100},\n",
              " '1029': {'Name': 'Scissors', 'Price': 90, 'Quantity': 100},\n",
              " '1030': {'Name': 'Gum', 'Price': 30, 'Quantity': 100},\n",
              " '1031': {'Name': 'juice', 'Price': 50, 'Quantity': 4}}"
            ]
          },
          "metadata": {},
          "execution_count": 14
        }
      ]
    },
    {
      "cell_type": "code",
      "metadata": {
        "id": "nVPv_uRGad-s"
      },
      "source": [
        "js = json.dumps(record)\n",
        "fd = open(\"record.json\",'w')\n",
        "fd.write(js)\n",
        "fd.close()"
      ],
      "execution_count": 15,
      "outputs": []
    },
    {
      "cell_type": "markdown",
      "metadata": {
        "id": "JJctGcWxaL1a"
      },
      "source": [
        "### **Removing items from the inventory**"
      ]
    },
    {
      "cell_type": "code",
      "metadata": {
        "id": "xtpxIEbjaIpx"
      },
      "source": [
        "del record['1030']"
      ],
      "execution_count": 16,
      "outputs": []
    },
    {
      "cell_type": "code",
      "metadata": {
        "colab": {
          "base_uri": "https://localhost:8080/"
        },
        "id": "JZnDPPYqaUwb",
        "outputId": "db5d04fe-cfd8-4d3d-e142-fdb22e0edf94"
      },
      "source": [
        "#to check the deleted record\n",
        "record"
      ],
      "execution_count": 17,
      "outputs": [
        {
          "output_type": "execute_result",
          "data": {
            "text/plain": [
              "{'1001': {'Name': 'Biscuit', 'Price': 50, 'Quantity': 100},\n",
              " '1002': {'Name': 'Chips', 'Price': 10, 'Quantity': 200},\n",
              " '1003': {'Name': 'Shampoo', 'Price': 125, 'Quantity': 100},\n",
              " '1004': {'Name': 'Chocolate', 'Price': 10, 'Quantity': 1000},\n",
              " '1005': {'Name': 'Pen', 'Price': 20, 'Quantity': 100},\n",
              " '1006': {'Name': 'oil', 'Price': 75, 'Quantity': 200},\n",
              " '1007': {'Name': 'Bottles', 'Price': 170, 'Quantity': 200},\n",
              " '1008': {'Name': 'Umbrella', 'Price': 300, 'Quantity': 30},\n",
              " '1009': {'Name': 'Graph', 'Price': 1, 'Quantity': 100},\n",
              " '1010': {'Name': 'Lipstick', 'Price': 70, 'Quantity': 50},\n",
              " '1011': {'Name': 'Comb', 'Price': 25, 'Quantity': 70},\n",
              " '1012': {'Name': 'Band', 'Price': 10, 'Quantity': 100},\n",
              " '1013': {'Name': 'Pencil', 'Price': 10, 'Quantity': 200},\n",
              " '1014': {'Name': 'Cutter', 'Price': 95, 'Quantity': 20},\n",
              " '1015': {'Name': 'Plates', 'Price': 25, 'Quantity': 100},\n",
              " '1016': {'Name': 'Hair Gel', 'Price': 200, 'Quantity': 80},\n",
              " '1017': {'Name': 'Towel', 'Price': 300, 'Quantity': 25},\n",
              " '1018': {'Name': 'Chair', 'Price': 575, 'Quantity': 10},\n",
              " '1019': {'Name': 'Frame', 'Price': 170, 'Quantity': 20},\n",
              " '1020': {'Name': 'Toys', 'Price': 300, 'Quantity': 30},\n",
              " '1021': {'Name': 'Cake', 'Price': 25, 'Quantity': 25},\n",
              " '1022': {'Name': 'Ice cream', 'Price': 10, 'Quantity': 200},\n",
              " '1023': {'Name': 'Milk', 'Price': 25, 'Quantity': 60},\n",
              " '1024': {'Name': 'Butter', 'Price': 185, 'Quantity': 30},\n",
              " '1025': {'Name': 'Paneer', 'Price': 190, 'Quantity': 25},\n",
              " '1026': {'Name': 'Mask', 'Price': 15, 'Quantity': 300},\n",
              " '1027': {'Name': 'Socks', 'Price': 170, 'Quantity': 100},\n",
              " '1028': {'Name': 'Pouch', 'Price': 30, 'Quantity': 100},\n",
              " '1029': {'Name': 'Scissors', 'Price': 90, 'Quantity': 100},\n",
              " '1031': {'Name': 'juice', 'Price': 50, 'Quantity': 4}}"
            ]
          },
          "metadata": {},
          "execution_count": 17
        }
      ]
    },
    {
      "cell_type": "code",
      "metadata": {
        "id": "yYdqryHvaX6D"
      },
      "source": [
        "js = json.dumps(record)\n",
        "fd = open(\"record.json\",'w')\n",
        "fd.write(js)\n",
        "fd.close()"
      ],
      "execution_count": 18,
      "outputs": []
    },
    {
      "cell_type": "code",
      "metadata": {
        "id": "ZwtjhCJx2HcZ"
      },
      "source": [
        ""
      ],
      "execution_count": 18,
      "outputs": []
    }
  ]
}